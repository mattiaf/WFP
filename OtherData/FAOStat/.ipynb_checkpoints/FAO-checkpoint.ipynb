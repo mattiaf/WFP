{
 "cells": [
  {
   "cell_type": "markdown",
   "metadata": {},
   "source": [
    "# FAO\n",
    "\n",
    "Downloads from http://faostat3.fao.org/download/D/FS/E\n",
    "\n",
    "Many categories of data.\n",
    "\n",
    "* Prices\n",
    "* Food security\n",
    "* Food balance\n",
    "* Livestock"
   ]
  },
  {
   "cell_type": "code",
   "execution_count": 4,
   "metadata": {
    "collapsed": false
   },
   "outputs": [],
   "source": [
    "import numpy as np\n",
    "from matplotlib import pyplot as plt\n",
    "import pandas as pd\n",
    "%matplotlib inline  \n",
    "\n"
   ]
  },
  {
   "cell_type": "markdown",
   "metadata": {},
   "source": [
    "## Prices Monthly\n",
    "\n",
    "Check for African countries.\n",
    "\n",
    "TLDR: Too much missing data"
   ]
  },
  {
   "cell_type": "code",
   "execution_count": 5,
   "metadata": {
    "collapsed": false
   },
   "outputs": [
    {
     "data": {
      "text/html": [
       "<div>\n",
       "<table border=\"1\" class=\"dataframe\">\n",
       "  <thead>\n",
       "    <tr style=\"text-align: right;\">\n",
       "      <th></th>\n",
       "      <th>Country Code</th>\n",
       "      <th>Country</th>\n",
       "      <th>Item Code</th>\n",
       "      <th>Item</th>\n",
       "      <th>Months Code</th>\n",
       "      <th>Months</th>\n",
       "      <th>Unit</th>\n",
       "      <th>Y2010</th>\n",
       "      <th>Y2010F</th>\n",
       "      <th>Y2011</th>\n",
       "      <th>Y2011F</th>\n",
       "      <th>Y2012</th>\n",
       "      <th>Y2012F</th>\n",
       "      <th>Y2013</th>\n",
       "      <th>Y2013F</th>\n",
       "    </tr>\n",
       "  </thead>\n",
       "  <tbody>\n",
       "    <tr>\n",
       "      <th>0</th>\n",
       "      <td>4</td>\n",
       "      <td>Algeria</td>\n",
       "      <td>515</td>\n",
       "      <td>Apples</td>\n",
       "      <td>7001</td>\n",
       "      <td>January</td>\n",
       "      <td>LCU/tonne</td>\n",
       "      <td>NaN</td>\n",
       "      <td>NaN</td>\n",
       "      <td>96000</td>\n",
       "      <td>NaN</td>\n",
       "      <td>110000</td>\n",
       "      <td>NaN</td>\n",
       "      <td>131000</td>\n",
       "      <td>NaN</td>\n",
       "    </tr>\n",
       "    <tr>\n",
       "      <th>1</th>\n",
       "      <td>4</td>\n",
       "      <td>Algeria</td>\n",
       "      <td>515</td>\n",
       "      <td>Apples</td>\n",
       "      <td>7002</td>\n",
       "      <td>February</td>\n",
       "      <td>LCU/tonne</td>\n",
       "      <td>NaN</td>\n",
       "      <td>NaN</td>\n",
       "      <td>102000</td>\n",
       "      <td>NaN</td>\n",
       "      <td>NaN</td>\n",
       "      <td>NaN</td>\n",
       "      <td>132000</td>\n",
       "      <td>NaN</td>\n",
       "    </tr>\n",
       "    <tr>\n",
       "      <th>2</th>\n",
       "      <td>4</td>\n",
       "      <td>Algeria</td>\n",
       "      <td>515</td>\n",
       "      <td>Apples</td>\n",
       "      <td>7003</td>\n",
       "      <td>March</td>\n",
       "      <td>LCU/tonne</td>\n",
       "      <td>NaN</td>\n",
       "      <td>NaN</td>\n",
       "      <td>103000</td>\n",
       "      <td>NaN</td>\n",
       "      <td>NaN</td>\n",
       "      <td>NaN</td>\n",
       "      <td>134000</td>\n",
       "      <td>NaN</td>\n",
       "    </tr>\n",
       "    <tr>\n",
       "      <th>3</th>\n",
       "      <td>4</td>\n",
       "      <td>Algeria</td>\n",
       "      <td>515</td>\n",
       "      <td>Apples</td>\n",
       "      <td>7004</td>\n",
       "      <td>April</td>\n",
       "      <td>LCU/tonne</td>\n",
       "      <td>NaN</td>\n",
       "      <td>NaN</td>\n",
       "      <td>108000</td>\n",
       "      <td>NaN</td>\n",
       "      <td>NaN</td>\n",
       "      <td>NaN</td>\n",
       "      <td>133000</td>\n",
       "      <td>NaN</td>\n",
       "    </tr>\n",
       "    <tr>\n",
       "      <th>4</th>\n",
       "      <td>4</td>\n",
       "      <td>Algeria</td>\n",
       "      <td>515</td>\n",
       "      <td>Apples</td>\n",
       "      <td>7005</td>\n",
       "      <td>May</td>\n",
       "      <td>LCU/tonne</td>\n",
       "      <td>NaN</td>\n",
       "      <td>NaN</td>\n",
       "      <td>112000</td>\n",
       "      <td>NaN</td>\n",
       "      <td>NaN</td>\n",
       "      <td>NaN</td>\n",
       "      <td>140000</td>\n",
       "      <td>NaN</td>\n",
       "    </tr>\n",
       "  </tbody>\n",
       "</table>\n",
       "</div>"
      ],
      "text/plain": [
       "   Country Code  Country  Item Code    Item  Months Code    Months       Unit  \\\n",
       "0             4  Algeria        515  Apples         7001   January  LCU/tonne   \n",
       "1             4  Algeria        515  Apples         7002  February  LCU/tonne   \n",
       "2             4  Algeria        515  Apples         7003     March  LCU/tonne   \n",
       "3             4  Algeria        515  Apples         7004     April  LCU/tonne   \n",
       "4             4  Algeria        515  Apples         7005       May  LCU/tonne   \n",
       "\n",
       "   Y2010  Y2010F   Y2011 Y2011F   Y2012 Y2012F   Y2013 Y2013F  \n",
       "0    NaN     NaN   96000    NaN  110000    NaN  131000    NaN  \n",
       "1    NaN     NaN  102000    NaN     NaN    NaN  132000    NaN  \n",
       "2    NaN     NaN  103000    NaN     NaN    NaN  134000    NaN  \n",
       "3    NaN     NaN  108000    NaN     NaN    NaN  133000    NaN  \n",
       "4    NaN     NaN  112000    NaN     NaN    NaN  140000    NaN  "
      ]
     },
     "execution_count": 5,
     "metadata": {},
     "output_type": "execute_result"
    }
   ],
   "source": [
    "FAO = pd.read_csv('Prices_Monthly_E_Africa_1.csv')\n",
    "FAO.head()"
   ]
  },
  {
   "cell_type": "code",
   "execution_count": 6,
   "metadata": {
    "collapsed": false,
    "scrolled": true
   },
   "outputs": [
    {
     "data": {
      "text/html": [
       "<div>\n",
       "<table border=\"1\" class=\"dataframe\">\n",
       "  <thead>\n",
       "    <tr style=\"text-align: right;\">\n",
       "      <th></th>\n",
       "      <th>Y2010</th>\n",
       "      <th>Y2011</th>\n",
       "      <th>Y2012</th>\n",
       "      <th>Y2013</th>\n",
       "      <th>Country</th>\n",
       "    </tr>\n",
       "  </thead>\n",
       "  <tbody>\n",
       "    <tr>\n",
       "      <th>722</th>\n",
       "      <td>NaN</td>\n",
       "      <td>NaN</td>\n",
       "      <td>167296.296296</td>\n",
       "      <td>NaN</td>\n",
       "      <td>Cameroon</td>\n",
       "    </tr>\n",
       "    <tr>\n",
       "      <th>723</th>\n",
       "      <td>NaN</td>\n",
       "      <td>NaN</td>\n",
       "      <td>177472.222222</td>\n",
       "      <td>NaN</td>\n",
       "      <td>Cameroon</td>\n",
       "    </tr>\n",
       "    <tr>\n",
       "      <th>724</th>\n",
       "      <td>NaN</td>\n",
       "      <td>NaN</td>\n",
       "      <td>191407.407407</td>\n",
       "      <td>NaN</td>\n",
       "      <td>Cameroon</td>\n",
       "    </tr>\n",
       "    <tr>\n",
       "      <th>725</th>\n",
       "      <td>NaN</td>\n",
       "      <td>NaN</td>\n",
       "      <td>171870.370370</td>\n",
       "      <td>NaN</td>\n",
       "      <td>Cameroon</td>\n",
       "    </tr>\n",
       "    <tr>\n",
       "      <th>726</th>\n",
       "      <td>NaN</td>\n",
       "      <td>NaN</td>\n",
       "      <td>160277.777778</td>\n",
       "      <td>NaN</td>\n",
       "      <td>Cameroon</td>\n",
       "    </tr>\n",
       "  </tbody>\n",
       "</table>\n",
       "</div>"
      ],
      "text/plain": [
       "     Y2010  Y2011          Y2012  Y2013   Country\n",
       "722    NaN    NaN  167296.296296    NaN  Cameroon\n",
       "723    NaN    NaN  177472.222222    NaN  Cameroon\n",
       "724    NaN    NaN  191407.407407    NaN  Cameroon\n",
       "725    NaN    NaN  171870.370370    NaN  Cameroon\n",
       "726    NaN    NaN  160277.777778    NaN  Cameroon"
      ]
     },
     "execution_count": 6,
     "metadata": {},
     "output_type": "execute_result"
    }
   ],
   "source": [
    "FAO[(FAO.Item == 'Rice, paddy')][['Y2010','Y2011','Y2012','Y2013','Country']].head()"
   ]
  },
  {
   "cell_type": "markdown",
   "metadata": {
    "collapsed": true
   },
   "source": [
    "Available data is only 25\\%\n",
    "Most recent data 2013"
   ]
  },
  {
   "cell_type": "code",
   "execution_count": 65,
   "metadata": {
    "collapsed": false
   },
   "outputs": [
    {
     "name": "stdout",
     "output_type": "stream",
     "text": [
      "Chad 0.25\n",
      "Malawi 0.25\n",
      "Cameroon 0.25\n"
     ]
    }
   ],
   "source": [
    "rice=FAO[(FAO.Item == 'Rice, paddy')][['Y2010','Y2011','Y2012','Y2013']]\n",
    "for country in ['Chad','Malawi','Cameroon']:\n",
    "    rice=FAO[(FAO.Item == 'Rice, paddy') & (FAO.Country == country)][['Y2010','Y2011','Y2012','Y2013']]\n",
    "    ncells = rice.shape[0]*rice.shape[1]\n",
    "    availabledata = rice.count().sum()\n",
    "    print country, float(availabledata)/ncells"
   ]
  },
  {
   "cell_type": "markdown",
   "metadata": {
    "collapsed": false
   },
   "source": [
    "# Prices - Yearly\n",
    "\n",
    "From 1991 to 2014\n",
    "\n",
    "Available data goes from 95% of Cameroon to 30% of Chad."
   ]
  },
  {
   "cell_type": "code",
   "execution_count": 29,
   "metadata": {
    "collapsed": false
   },
   "outputs": [
    {
     "name": "stdout",
     "output_type": "stream",
     "text": [
      "Percentage of not-Nan Data\n",
      "Chad 0.304347826087\n",
      "Malawi 0.782608695652\n",
      "Cameroon 0.95652173913\n"
     ]
    }
   ],
   "source": [
    "years=['Y'+str(i) for i in range(1991,2014,1)]\n",
    "FAO = pd.read_csv('Prices_E_Africa_1.csv')\n",
    "\n",
    "print 'Percentage of not-Nan Data'\n",
    "for country in ['Chad','Malawi','Cameroon']:\n",
    "    rice=FAO[(FAO.Item == 'Rice, paddy') & (FAO.Country == country)][years]\n",
    "    ncells = rice.shape[0]*rice.shape[1]\n",
    "    availabledata = rice.count().sum()\n",
    "    print country, float(availabledata)/ncells"
   ]
  },
  {
   "cell_type": "code",
   "execution_count": 134,
   "metadata": {
    "collapsed": false
   },
   "outputs": [
    {
     "data": {
      "text/plain": [
       "<matplotlib.text.Text at 0x1125a6590>"
      ]
     },
     "execution_count": 134,
     "metadata": {},
     "output_type": "execute_result"
    },
    {
     "data": {
      "image/png": "[encoded data removed]",
      "text/plain": [
       "<matplotlib.figure.Figure at 0x11276e790>"
      ]
     },
     "metadata": {},
     "output_type": "display_data"
    }
   ],
   "source": [
    "Malawi=FAO[(FAO.Item == 'Rice, paddy') & (FAO.Country == 'Malawi') & (FAO.Element == 'Producer Price (USD/tonne)')]\n",
    "Malawi[years].transpose().plot(legend=None)\n",
    "plt.ylabel('Producer Price (USD/tonne)')\n",
    "plt.title('Rice, paddy')"
   ]
  },
  {
   "cell_type": "markdown",
   "metadata": {
    "collapsed": true
   },
   "source": [
    "# Food Security Data"
   ]
  },
  {
   "cell_type": "code",
   "execution_count": 12,
   "metadata": {
    "collapsed": false
   },
   "outputs": [
    {
     "data": {
      "text/html": [
       "<div>\n",
       "<table border=\"1\" class=\"dataframe\">\n",
       "  <thead>\n",
       "    <tr style=\"text-align: right;\">\n",
       "      <th></th>\n",
       "      <th>Country Code</th>\n",
       "      <th>Country</th>\n",
       "      <th>Item Code</th>\n",
       "      <th>Item</th>\n",
       "      <th>Element Code</th>\n",
       "      <th>Element</th>\n",
       "      <th>Unit</th>\n",
       "      <th>Y19891991</th>\n",
       "      <th>Y19891991F</th>\n",
       "      <th>Y1990</th>\n",
       "      <th>...</th>\n",
       "      <th>Y2013</th>\n",
       "      <th>Y2013F</th>\n",
       "      <th>Y20132015</th>\n",
       "      <th>Y20132015F</th>\n",
       "      <th>Y2014</th>\n",
       "      <th>Y2014F</th>\n",
       "      <th>Y20142016</th>\n",
       "      <th>Y20142016F</th>\n",
       "      <th>Y2015</th>\n",
       "      <th>Y2015F</th>\n",
       "    </tr>\n",
       "  </thead>\n",
       "  <tbody>\n",
       "    <tr>\n",
       "      <th>0</th>\n",
       "      <td>2</td>\n",
       "      <td>Afghanistan</td>\n",
       "      <td>21010</td>\n",
       "      <td>Average dietary energy supply adequacy (%) (3-...</td>\n",
       "      <td>6121</td>\n",
       "      <td>Value</td>\n",
       "      <td>%</td>\n",
       "      <td>NaN</td>\n",
       "      <td>NaN</td>\n",
       "      <td>NaN</td>\n",
       "      <td>...</td>\n",
       "      <td>NaN</td>\n",
       "      <td>NaN</td>\n",
       "      <td>100</td>\n",
       "      <td>NaN</td>\n",
       "      <td>NaN</td>\n",
       "      <td>NaN</td>\n",
       "      <td>99</td>\n",
       "      <td>NaN</td>\n",
       "      <td>NaN</td>\n",
       "      <td>NaN</td>\n",
       "    </tr>\n",
       "    <tr>\n",
       "      <th>1</th>\n",
       "      <td>2</td>\n",
       "      <td>Afghanistan</td>\n",
       "      <td>21011</td>\n",
       "      <td>Average value of food production (constant I$ ...</td>\n",
       "      <td>6122</td>\n",
       "      <td>Value</td>\n",
       "      <td>I$ per person</td>\n",
       "      <td>NaN</td>\n",
       "      <td>NaN</td>\n",
       "      <td>NaN</td>\n",
       "      <td>...</td>\n",
       "      <td>NaN</td>\n",
       "      <td>NaN</td>\n",
       "      <td>NaN</td>\n",
       "      <td>NaN</td>\n",
       "      <td>NaN</td>\n",
       "      <td>NaN</td>\n",
       "      <td>NaN</td>\n",
       "      <td>NaN</td>\n",
       "      <td>NaN</td>\n",
       "      <td>NaN</td>\n",
       "    </tr>\n",
       "  </tbody>\n",
       "</table>\n",
       "<p>2 rows × 111 columns</p>\n",
       "</div>"
      ],
      "text/plain": [
       "   Country Code      Country  Item Code  \\\n",
       "0             2  Afghanistan      21010   \n",
       "1             2  Afghanistan      21011   \n",
       "\n",
       "                                                Item  Element Code Element  \\\n",
       "0  Average dietary energy supply adequacy (%) (3-...          6121   Value   \n",
       "1  Average value of food production (constant I$ ...          6122   Value   \n",
       "\n",
       "            Unit  Y19891991  Y19891991F  Y1990   ...    Y2013  Y2013F  \\\n",
       "0              %        NaN         NaN    NaN   ...      NaN     NaN   \n",
       "1  I$ per person        NaN         NaN    NaN   ...      NaN     NaN   \n",
       "\n",
       "  Y20132015  Y20132015F  Y2014  Y2014F Y20142016  Y20142016F  Y2015  Y2015F  \n",
       "0       100         NaN    NaN     NaN        99         NaN    NaN     NaN  \n",
       "1       NaN         NaN    NaN     NaN       NaN         NaN    NaN     NaN  \n",
       "\n",
       "[2 rows x 111 columns]"
      ]
     },
     "execution_count": 12,
     "metadata": {},
     "output_type": "execute_result"
    }
   ],
   "source": [
    "FAO_sec=pd.read_csv('Food_Security_Data_E_All_Data.csv')\n",
    "FAO_sec.head(2)"
   ]
  },
  {
   "cell_type": "code",
   "execution_count": 14,
   "metadata": {
    "collapsed": false
   },
   "outputs": [
    {
     "data": {
      "text/plain": [
       "{'Access to improved sanitation facilities (%)',\n",
       " 'Access to improved water sources (%)',\n",
       " 'Average dietary energy supply adequacy (%) (3-year average)',\n",
       " 'Average protein supply (g/capita/day) (3-year average)',\n",
       " 'Average supply of protein of animal origin (g/capita/day) (3-year average)',\n",
       " 'Average value of food production (constant I$ per person) (3-year average)',\n",
       " 'Cereal import dependency ratio (%) (3-year average)',\n",
       " 'Depth of the food deficit (kcal/capita/day) (3-year average)',\n",
       " 'Domestic food price index (index)',\n",
       " 'Domestic food price volatility (index)',\n",
       " 'Gross domestic product per capita, PPP (constant 2011 international $)',\n",
       " 'Number of people undernourished (millions) (3-year average)',\n",
       " 'Per capita food production variability (I$ per person constant 2004-06)',\n",
       " 'Per capita food supply variability (kcal/capita/day)',\n",
       " 'Percentage of adults who are underweight (%)',\n",
       " 'Percentage of arable land equipped for irrigation (%) (3-year average)',\n",
       " 'Percentage of children under 5 years of age affected by wasting (%)',\n",
       " 'Percentage of children under 5 years of age who are stunted (%)',\n",
       " 'Percentage of children under 5 years of age who are underweight (%)',\n",
       " 'Percentage of paved roads over total roads (%)',\n",
       " 'Political stability and absence of violence/terrorism (index)',\n",
       " 'Prevalence of anaemia among children under 5 years of age (%)',\n",
       " 'Prevalence of anemia among pregnant women (%)',\n",
       " 'Prevalence of food inadequacy (%) (3-year average)',\n",
       " 'Prevalence of iodine deficiency (%)',\n",
       " 'Prevalence of undernourishment (%) (3-year average)',\n",
       " 'Prevalence of vitamin A deficiency in the population (%)',\n",
       " 'Rail-lines density (per 100 square km of land area)',\n",
       " 'Road density (per 100 square km of land area)',\n",
       " 'Share of dietary energy supply derived from cereals, roots and tubers (%) (3-year average)',\n",
       " 'Share of food expenditure of the poor (%)',\n",
       " 'Value of food imports over total merchandise exports (%) (3-year average)'}"
      ]
     },
     "execution_count": 14,
     "metadata": {},
     "output_type": "execute_result"
    }
   ],
   "source": [
    "set(FAO_sec.Item)"
   ]
  },
  {
   "cell_type": "code",
   "execution_count": 54,
   "metadata": {
    "collapsed": false
   },
   "outputs": [
    {
     "name": "stdout",
     "output_type": "stream",
     "text": [
      "Percentage of not-Nan data\n",
      "\n",
      "Chad Prevalence of anemia among pregnant women (%) 0.88\n",
      "Malawi Prevalence of anemia among pregnant women (%) 0.88\n",
      "Cameroon Prevalence of anemia among pregnant women (%) 0.88\n",
      "Somalia Prevalence of anemia among pregnant women (%) 0.88\n",
      "Yemen Prevalence of anemia among pregnant women (%) 0.88\n",
      "Iraq Prevalence of anemia among pregnant women (%) 0.88\n",
      "Niger Prevalence of anemia among pregnant women (%) 0.88\n",
      "Ukraine Prevalence of anemia among pregnant women (%) 0.88\n",
      "Chad Prevalence of vitamin A deficiency in the population (%) 0.04\n",
      "Malawi Prevalence of vitamin A deficiency in the population (%) 0.04\n",
      "Cameroon Prevalence of vitamin A deficiency in the population (%) 0.12\n",
      "Somalia Prevalence of vitamin A deficiency in the population (%) 0.0\n",
      "Yemen Prevalence of vitamin A deficiency in the population (%) 0.04\n",
      "Iraq Prevalence of vitamin A deficiency in the population (%) 0.0\n",
      "Niger Prevalence of vitamin A deficiency in the population (%) 0.0\n",
      "Ukraine Prevalence of vitamin A deficiency in the population (%) 0.0\n"
     ]
    }
   ],
   "source": [
    "years=['Y'+str(i) for i in range(1990,2015,1)]\n",
    "\n",
    "print 'Percentage of not-Nan data'\n",
    "print ''\n",
    "items=['Prevalence of anemia among pregnant women (%)','Prevalence of vitamin A deficiency in the population (%)']\n",
    "for item in items:\n",
    "    for country in ['Chad','Malawi','Cameroon','Somalia','Yemen','Iraq','Niger','Ukraine']:\n",
    "        itemdb=FAO_sec[(FAO_sec.Item == item) & (FAO_sec.Country == country)][years]\n",
    "        ncells = itemdb.shape[0]*itemdb.shape[1]\n",
    "        availabledata = itemdb.count().sum()\n",
    "        print country, item, float(availabledata)/ncells"
   ]
  },
  {
   "cell_type": "code",
   "execution_count": 38,
   "metadata": {
    "collapsed": false
   },
   "outputs": [
    {
     "data": {
      "text/html": [
       "<div>\n",
       "<table border=\"1\" class=\"dataframe\">\n",
       "  <thead>\n",
       "    <tr style=\"text-align: right;\">\n",
       "      <th></th>\n",
       "      <th>Country Code</th>\n",
       "      <th>Country</th>\n",
       "      <th>Item Code</th>\n",
       "      <th>Item</th>\n",
       "      <th>Element Code</th>\n",
       "      <th>Element</th>\n",
       "      <th>Unit</th>\n",
       "      <th>Y19891991</th>\n",
       "      <th>Y19891991F</th>\n",
       "      <th>Y1990</th>\n",
       "      <th>...</th>\n",
       "      <th>Y2013</th>\n",
       "      <th>Y2013F</th>\n",
       "      <th>Y20132015</th>\n",
       "      <th>Y20132015F</th>\n",
       "      <th>Y2014</th>\n",
       "      <th>Y2014F</th>\n",
       "      <th>Y20142016</th>\n",
       "      <th>Y20142016F</th>\n",
       "      <th>Y2015</th>\n",
       "      <th>Y2015F</th>\n",
       "    </tr>\n",
       "  </thead>\n",
       "  <tbody>\n",
       "    <tr>\n",
       "      <th>3011</th>\n",
       "      <td>103</td>\n",
       "      <td>Iraq</td>\n",
       "      <td>21013</td>\n",
       "      <td>Average protein supply (g/capita/day) (3-year ...</td>\n",
       "      <td>6123</td>\n",
       "      <td>Value</td>\n",
       "      <td>g/capita/day</td>\n",
       "      <td>NaN</td>\n",
       "      <td>NaN</td>\n",
       "      <td>NaN</td>\n",
       "      <td>...</td>\n",
       "      <td>NaN</td>\n",
       "      <td>NaN</td>\n",
       "      <td>NaN</td>\n",
       "      <td>NaN</td>\n",
       "      <td>NaN</td>\n",
       "      <td>NaN</td>\n",
       "      <td>NaN</td>\n",
       "      <td>NaN</td>\n",
       "      <td>NaN</td>\n",
       "      <td>NaN</td>\n",
       "    </tr>\n",
       "  </tbody>\n",
       "</table>\n",
       "<p>1 rows × 111 columns</p>\n",
       "</div>"
      ],
      "text/plain": [
       "      Country Code Country  Item Code  \\\n",
       "3011           103    Iraq      21013   \n",
       "\n",
       "                                                   Item  Element Code Element  \\\n",
       "3011  Average protein supply (g/capita/day) (3-year ...          6123   Value   \n",
       "\n",
       "              Unit  Y19891991  Y19891991F  Y1990   ...    Y2013  Y2013F  \\\n",
       "3011  g/capita/day        NaN         NaN    NaN   ...      NaN     NaN   \n",
       "\n",
       "     Y20132015  Y20132015F  Y2014  Y2014F Y20142016  Y20142016F  Y2015  Y2015F  \n",
       "3011       NaN         NaN    NaN     NaN       NaN         NaN    NaN     NaN  \n",
       "\n",
       "[1 rows x 111 columns]"
      ]
     },
     "execution_count": 38,
     "metadata": {},
     "output_type": "execute_result"
    }
   ],
   "source": [
    "years3avg=['Y'+str(i)+str(i+2) for i in range(1989,2014,1)]\n",
    "FAO_sec[(FAO_sec.Item == 'Average protein supply (g/capita/day) (3-year average)') & (FAO_sec.Country == 'Iraq')][years3avg]"
   ]
  },
  {
   "cell_type": "code",
   "execution_count": 56,
   "metadata": {
    "collapsed": false
   },
   "outputs": [
    {
     "data": {
      "text/plain": [
       "<matplotlib.text.Text at 0x1109ce150>"
      ]
     },
     "execution_count": 56,
     "metadata": {},
     "output_type": "execute_result"
    },
    {
     "data": {
      "image/png": "[encoded data removed]",
      "text/plain": [
       "<matplotlib.figure.Figure at 0x110002050>"
      ]
     },
     "metadata": {},
     "output_type": "display_data"
    }
   ],
   "source": [
    "# Plot evolution country (data year by year)\n",
    "years=['Y'+str(i) for i in range(1990,2015,1)]\n",
    "country='Chad' # ['Chad','Malawi','Cameroon','Somalia','Yemen','Iraq','Niger','Ukraine']\n",
    "item='Prevalence of anemia among pregnant women (%)'\n",
    "db=FAO_sec[(FAO_sec.Item == item) & (FAO_sec.Country == country)]\n",
    "db[years].transpose().plot(legend=None)\n",
    "plt.ylabel(item)\n",
    "plt.title(country)"
   ]
  },
  {
   "cell_type": "code",
   "execution_count": 51,
   "metadata": {
    "collapsed": false
   },
   "outputs": [
    {
     "data": {
      "text/plain": [
       "<matplotlib.text.Text at 0x1102bef10>"
      ]
     },
     "execution_count": 51,
     "metadata": {},
     "output_type": "execute_result"
    },
    {
     "data": {
      "image/png": "[encoded data removed]",
      "text/plain": [
       "<matplotlib.figure.Figure at 0x11018ffd0>"
      ]
     },
     "metadata": {},
     "output_type": "display_data"
    }
   ],
   "source": [
    "# Plot evolution country (data 3yrs average)\n",
    "country='Iraq' # ['Chad','Malawi','Cameroon','Somalia','Yemen','Iraq','Niger','Ukraine']\n",
    "item='Average protein supply (g/capita/day) (3-year average)'\n",
    "db=FAO_sec[(FAO_sec.Item == item) & (FAO_sec.Country == country)]\n",
    "db[years3avg].transpose().plot(legend=None)\n",
    "plt.ylabel(item)\n",
    "plt.title(country)"
   ]
  },
  {
   "cell_type": "code",
   "execution_count": null,
   "metadata": {
    "collapsed": true
   },
   "outputs": [],
   "source": []
  }
 ],
 "metadata": {
  "kernelspec": {
   "display_name": "Python 2",
   "language": "python",
   "name": "python2"
  },
  "language_info": {
   "codemirror_mode": {
    "name": "ipython",
    "version": 2
   },
   "file_extension": ".py",
   "mimetype": "text/x-python",
   "name": "python",
   "nbconvert_exporter": "python",
   "pygments_lexer": "ipython2",
   "version": "2.7.10"
  }
 },
 "nbformat": 4,
 "nbformat_minor": 0
}
