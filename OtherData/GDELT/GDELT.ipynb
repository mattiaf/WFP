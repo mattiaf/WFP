{
 "cells": [
  {
   "cell_type": "markdown",
   "metadata": {},
   "source": [
    "# GDELT \n",
    "\n",
    "They have raw files (1Gb total, approx 10Mb per each month of data) here:\n",
    "http://www.gdeltproject.org/data.html#rawdatafiles\n",
    "\n",
    "and an SQL form here:\n",
    "http://www.gdeltproject.org/data.html#googlebigquery\n",
    "\n",
    "Raw files are a bit cumbersome to work on. SQL queries are more handy for finding something we are interested in."
   ]
  },
  {
   "cell_type": "code",
   "execution_count": 2,
   "metadata": {
    "collapsed": true
   },
   "outputs": [],
   "source": [
    "import numpy as np\n",
    "%matplotlib inline  \n",
    "from matplotlib import pyplot as plt\n",
    "import pandas as pd"
   ]
  },
  {
   "cell_type": "code",
   "execution_count": 3,
   "metadata": {
    "collapsed": false
   },
   "outputs": [
    {
     "name": "stderr",
     "output_type": "stream",
     "text": [
      "/Users/mattia/anaconda/lib/python2.7/site-packages/IPython/core/interactiveshell.py:2902: DtypeWarning: Columns (8,9,10,11,12,13,14,19) have mixed types. Specify dtype option on import or set low_memory=False.\n",
      "  interactivity=interactivity, compiler=compiler, result=result)\n"
     ]
    },
    {
     "data": {
      "text/plain": [
       "Index([u'GLOBALEVENTID', u'SQLDATE', u'MonthYear', u'Year', u'FractionDate',\n",
       "       u'Actor1Code', u'Actor1Name', u'Actor1CountryCode',\n",
       "       u'Actor1KnownGroupCode', u'Actor1EthnicCode', u'Actor1Religion1Code',\n",
       "       u'Actor1Religion2Code', u'Actor1Type1Code', u'Actor1Type2Code',\n",
       "       u'Actor1Type3Code', u'Actor2Code', u'Actor2Name', u'Actor2CountryCode',\n",
       "       u'Actor2KnownGroupCode', u'Actor2EthnicCode', u'Actor2Religion1Code',\n",
       "       u'Actor2Religion2Code', u'Actor2Type1Code', u'Actor2Type2Code',\n",
       "       u'Actor2Type3Code', u'IsRootEvent', u'EventCode', u'EventBaseCode',\n",
       "       u'EventRootCode', u'QuadClass', u'GoldsteinScale', u'NumMentions',\n",
       "       u'NumSources', u'NumArticles', u'AvgTone', u'Actor1Geo_Type',\n",
       "       u'Actor1Geo_FullName', u'Actor1Geo_CountryCode', u'Actor1Geo_ADM1Code',\n",
       "       u'Actor1Geo_Lat', u'Actor1Geo_Long', u'Actor1Geo_FeatureID',\n",
       "       u'Actor2Geo_Type', u'Actor2Geo_FullName', u'Actor2Geo_CountryCode',\n",
       "       u'Actor2Geo_ADM1Code', u'Actor2Geo_Lat', u'Actor2Geo_Long',\n",
       "       u'Actor2Geo_FeatureID', u'ActionGeo_Type', u'ActionGeo_FullName',\n",
       "       u'ActionGeo_CountryCode', u'ActionGeo_ADM1Code', u'ActionGeo_Lat',\n",
       "       u'ActionGeo_Long', u'ActionGeo_FeatureID', u'DATEADDED', u'SOURCEURL'],\n",
       "      dtype='object')"
      ]
     },
     "execution_count": 3,
     "metadata": {},
     "output_type": "execute_result"
    }
   ],
   "source": [
    "# read one month of data\n",
    "gdelt=pd.read_csv('20130828.export.CSV',sep='\\t',header=None)\n",
    "\n",
    "# read header\n",
    "header=pd.read_csv('CSV.header.dailyupdates.txt', sep='\\t')\n",
    "\n",
    "# assign header\n",
    "gdelt.columns = header.columns\n",
    "gdelt.columns"
   ]
  },
  {
   "cell_type": "code",
   "execution_count": 22,
   "metadata": {
    "collapsed": false
   },
   "outputs": [
    {
     "data": {
      "text/html": [
       "<div>\n",
       "<table border=\"1\" class=\"dataframe\">\n",
       "  <thead>\n",
       "    <tr style=\"text-align: right;\">\n",
       "      <th></th>\n",
       "      <th>GLOBALEVENTID</th>\n",
       "      <th>SQLDATE</th>\n",
       "      <th>MonthYear</th>\n",
       "      <th>Year</th>\n",
       "      <th>FractionDate</th>\n",
       "      <th>Actor1Code</th>\n",
       "      <th>Actor1Name</th>\n",
       "      <th>Actor1CountryCode</th>\n",
       "      <th>Actor1KnownGroupCode</th>\n",
       "      <th>Actor1EthnicCode</th>\n",
       "      <th>...</th>\n",
       "      <th>Actor2Geo_FeatureID</th>\n",
       "      <th>ActionGeo_Type</th>\n",
       "      <th>ActionGeo_FullName</th>\n",
       "      <th>ActionGeo_CountryCode</th>\n",
       "      <th>ActionGeo_ADM1Code</th>\n",
       "      <th>ActionGeo_Lat</th>\n",
       "      <th>ActionGeo_Long</th>\n",
       "      <th>ActionGeo_FeatureID</th>\n",
       "      <th>DATEADDED</th>\n",
       "      <th>SOURCEURL</th>\n",
       "    </tr>\n",
       "  </thead>\n",
       "  <tbody>\n",
       "    <tr>\n",
       "      <th>0</th>\n",
       "      <td>264896801</td>\n",
       "      <td>20030831</td>\n",
       "      <td>200308</td>\n",
       "      <td>2003</td>\n",
       "      <td>2003.6603</td>\n",
       "      <td>NaN</td>\n",
       "      <td>NaN</td>\n",
       "      <td>NaN</td>\n",
       "      <td>NaN</td>\n",
       "      <td>NaN</td>\n",
       "      <td>...</td>\n",
       "      <td>-2532413</td>\n",
       "      <td>4</td>\n",
       "      <td>Uppsala, Uppsala Lan, Sweden</td>\n",
       "      <td>SW</td>\n",
       "      <td>SW21</td>\n",
       "      <td>59.8500</td>\n",
       "      <td>17.6333</td>\n",
       "      <td>-2532413</td>\n",
       "      <td>20130828</td>\n",
       "      <td>http://www.ngrguardiannews.com/science/131231-...</td>\n",
       "    </tr>\n",
       "    <tr>\n",
       "      <th>1</th>\n",
       "      <td>264896802</td>\n",
       "      <td>20030831</td>\n",
       "      <td>200308</td>\n",
       "      <td>2003</td>\n",
       "      <td>2003.6603</td>\n",
       "      <td>NaN</td>\n",
       "      <td>NaN</td>\n",
       "      <td>NaN</td>\n",
       "      <td>NaN</td>\n",
       "      <td>NaN</td>\n",
       "      <td>...</td>\n",
       "      <td>CA</td>\n",
       "      <td>2</td>\n",
       "      <td>California, United States</td>\n",
       "      <td>US</td>\n",
       "      <td>USCA</td>\n",
       "      <td>36.1700</td>\n",
       "      <td>-119.7460</td>\n",
       "      <td>CA</td>\n",
       "      <td>20130828</td>\n",
       "      <td>http://money.msn.com/business-news/article.asp...</td>\n",
       "    </tr>\n",
       "    <tr>\n",
       "      <th>2</th>\n",
       "      <td>264896803</td>\n",
       "      <td>20030831</td>\n",
       "      <td>200308</td>\n",
       "      <td>2003</td>\n",
       "      <td>2003.6603</td>\n",
       "      <td>NaN</td>\n",
       "      <td>NaN</td>\n",
       "      <td>NaN</td>\n",
       "      <td>NaN</td>\n",
       "      <td>NaN</td>\n",
       "      <td>...</td>\n",
       "      <td>IN</td>\n",
       "      <td>1</td>\n",
       "      <td>Japan</td>\n",
       "      <td>JA</td>\n",
       "      <td>JA</td>\n",
       "      <td>36.0000</td>\n",
       "      <td>138.0000</td>\n",
       "      <td>JA</td>\n",
       "      <td>20130828</td>\n",
       "      <td>http://www.alaskadispatch.com/article/20130828...</td>\n",
       "    </tr>\n",
       "    <tr>\n",
       "      <th>3</th>\n",
       "      <td>264896804</td>\n",
       "      <td>20030831</td>\n",
       "      <td>200308</td>\n",
       "      <td>2003</td>\n",
       "      <td>2003.6603</td>\n",
       "      <td>NaN</td>\n",
       "      <td>NaN</td>\n",
       "      <td>NaN</td>\n",
       "      <td>NaN</td>\n",
       "      <td>NaN</td>\n",
       "      <td>...</td>\n",
       "      <td>JA</td>\n",
       "      <td>1</td>\n",
       "      <td>Japan</td>\n",
       "      <td>JA</td>\n",
       "      <td>JA</td>\n",
       "      <td>36.0000</td>\n",
       "      <td>138.0000</td>\n",
       "      <td>JA</td>\n",
       "      <td>20130828</td>\n",
       "      <td>http://www.alaskadispatch.com/article/20130828...</td>\n",
       "    </tr>\n",
       "    <tr>\n",
       "      <th>4</th>\n",
       "      <td>264896805</td>\n",
       "      <td>20030831</td>\n",
       "      <td>200308</td>\n",
       "      <td>2003</td>\n",
       "      <td>2003.6603</td>\n",
       "      <td>AFG</td>\n",
       "      <td>AFGHANISTAN</td>\n",
       "      <td>AFG</td>\n",
       "      <td>NaN</td>\n",
       "      <td>NaN</td>\n",
       "      <td>...</td>\n",
       "      <td>6273512</td>\n",
       "      <td>4</td>\n",
       "      <td>Shahzada, Khowst, Afghanistan</td>\n",
       "      <td>AF</td>\n",
       "      <td>AF37</td>\n",
       "      <td>33.2942</td>\n",
       "      <td>70.1928</td>\n",
       "      <td>6273512</td>\n",
       "      <td>20130828</td>\n",
       "      <td>http://www.bakhtarnews.com.af/eng/politics/ite...</td>\n",
       "    </tr>\n",
       "  </tbody>\n",
       "</table>\n",
       "<p>5 rows × 58 columns</p>\n",
       "</div>"
      ],
      "text/plain": [
       "   GLOBALEVENTID   SQLDATE  MonthYear  Year  FractionDate Actor1Code  \\\n",
       "0      264896801  20030831     200308  2003     2003.6603        NaN   \n",
       "1      264896802  20030831     200308  2003     2003.6603        NaN   \n",
       "2      264896803  20030831     200308  2003     2003.6603        NaN   \n",
       "3      264896804  20030831     200308  2003     2003.6603        NaN   \n",
       "4      264896805  20030831     200308  2003     2003.6603        AFG   \n",
       "\n",
       "    Actor1Name Actor1CountryCode Actor1KnownGroupCode Actor1EthnicCode  \\\n",
       "0          NaN               NaN                  NaN              NaN   \n",
       "1          NaN               NaN                  NaN              NaN   \n",
       "2          NaN               NaN                  NaN              NaN   \n",
       "3          NaN               NaN                  NaN              NaN   \n",
       "4  AFGHANISTAN               AFG                  NaN              NaN   \n",
       "\n",
       "                         ...                         Actor2Geo_FeatureID  \\\n",
       "0                        ...                                    -2532413   \n",
       "1                        ...                                          CA   \n",
       "2                        ...                                          IN   \n",
       "3                        ...                                          JA   \n",
       "4                        ...                                     6273512   \n",
       "\n",
       "  ActionGeo_Type             ActionGeo_FullName ActionGeo_CountryCode  \\\n",
       "0              4   Uppsala, Uppsala Lan, Sweden                    SW   \n",
       "1              2      California, United States                    US   \n",
       "2              1                          Japan                    JA   \n",
       "3              1                          Japan                    JA   \n",
       "4              4  Shahzada, Khowst, Afghanistan                    AF   \n",
       "\n",
       "  ActionGeo_ADM1Code ActionGeo_Lat ActionGeo_Long ActionGeo_FeatureID  \\\n",
       "0               SW21       59.8500        17.6333            -2532413   \n",
       "1               USCA       36.1700      -119.7460                  CA   \n",
       "2                 JA       36.0000       138.0000                  JA   \n",
       "3                 JA       36.0000       138.0000                  JA   \n",
       "4               AF37       33.2942        70.1928             6273512   \n",
       "\n",
       "  DATEADDED                                          SOURCEURL  \n",
       "0  20130828  http://www.ngrguardiannews.com/science/131231-...  \n",
       "1  20130828  http://money.msn.com/business-news/article.asp...  \n",
       "2  20130828  http://www.alaskadispatch.com/article/20130828...  \n",
       "3  20130828  http://www.alaskadispatch.com/article/20130828...  \n",
       "4  20130828  http://www.bakhtarnews.com.af/eng/politics/ite...  \n",
       "\n",
       "[5 rows x 58 columns]"
      ]
     },
     "execution_count": 22,
     "metadata": {},
     "output_type": "execute_result"
    }
   ],
   "source": [
    "gdelt.head(5)"
   ]
  },
  {
   "cell_type": "code",
   "execution_count": 27,
   "metadata": {
    "collapsed": false
   },
   "outputs": [
    {
     "data": {
      "text/plain": [
       "US    54384\n",
       "SY     9798\n",
       "UK     6094\n",
       "RS     3918\n",
       "CH     3639\n",
       "IR     3067\n",
       "AS     2989\n",
       "IS     2970\n",
       "IN     2885\n",
       "CA     2810\n",
       "PK     2748\n",
       "NI     1973\n",
       "IZ     1962\n",
       "AF     1942\n",
       "EG     1884\n",
       "FR     1845\n",
       "RP     1518\n",
       "JA     1374\n",
       "SF     1360\n",
       "GM     1194\n",
       "TU     1173\n",
       "MY      957\n",
       "JO      940\n",
       "EI      933\n",
       "KN      905\n",
       "SA      791\n",
       "ID      774\n",
       "KS      771\n",
       "KE      742\n",
       "NZ      739\n",
       "      ...  \n",
       "SI        8\n",
       "LU        8\n",
       "DO        7\n",
       "MC        7\n",
       "LS        7\n",
       "KT        7\n",
       "UV        6\n",
       "CV        6\n",
       "WI        6\n",
       "MJ        5\n",
       "SC        4\n",
       "MN        4\n",
       "RE        4\n",
       "PC        4\n",
       "YI        4\n",
       "AV        3\n",
       "CW        3\n",
       "PU        3\n",
       "AY        3\n",
       "GK        3\n",
       "TN        2\n",
       "VT        2\n",
       "MB        2\n",
       "GJ        2\n",
       "FP        2\n",
       "NH        2\n",
       "AQ        2\n",
       "SV        1\n",
       "AC        1\n",
       "PG        1\n",
       "Name: Actor1Geo_CountryCode, dtype: int64"
      ]
     },
     "execution_count": 27,
     "metadata": {},
     "output_type": "execute_result"
    }
   ],
   "source": [
    "# This includes countries\n",
    "gdelt.Actor1Geo_CountryCode.value_counts()"
   ]
  },
  {
   "cell_type": "code",
   "execution_count": 8,
   "metadata": {
    "collapsed": false
   },
   "outputs": [
    {
     "data": {
      "text/plain": [
       "392"
      ]
     },
     "execution_count": 8,
     "metadata": {},
     "output_type": "execute_result"
    }
   ],
   "source": [
    "# events in somalia\n",
    "len(gdelt[gdelt.Actor1Geo_CountryCode == 'SO'])"
   ]
  },
  {
   "cell_type": "markdown",
   "metadata": {},
   "source": [
    "# SQL QUERY: Finding events per month in a country\n",
    "\n",
    "I query the database to obtain, per each month, the number of events happening in one country (i.e. Somalia)\n",
    "\n",
    "This is the SQL query:"
   ]
  },
  {
   "cell_type": "code",
   "execution_count": null,
   "metadata": {
    "collapsed": true
   },
   "outputs": [],
   "source": [
    "# SELECT MonthYear, Actor1CountryCode, Count FROM (\n",
    "# SELECT Actor1CountryCode, MonthYear, COUNT(*) Count, RANK() OVER(PARTITION BY MonthYear ORDER BY Count DESC) rank\n",
    "# FROM \n",
    "# (SELECT Actor1CountryCode, MonthYear FROM [gdelt-bq:full.events] WHERE Actor1CountryCode == 'SOM'),  \n",
    "# GROUP EACH BY 1,2\n",
    "# )\n",
    "# WHERE MonthYear > 201001\n",
    "# ORDER BY MonthYear"
   ]
  },
  {
   "cell_type": "markdown",
   "metadata": {},
   "source": [
    "... and I export it as a csv file.\n",
    "I plot the number of events in Somalia per month from 2010 to now."
   ]
  },
  {
   "cell_type": "code",
   "execution_count": 10,
   "metadata": {
    "collapsed": false,
    "scrolled": false
   },
   "outputs": [
    {
     "data": {
      "text/html": [
       "<div>\n",
       "<table border=\"1\" class=\"dataframe\">\n",
       "  <thead>\n",
       "    <tr style=\"text-align: right;\">\n",
       "      <th></th>\n",
       "      <th>MonthYear</th>\n",
       "      <th>Actor1CountryCode</th>\n",
       "      <th>Count</th>\n",
       "    </tr>\n",
       "  </thead>\n",
       "  <tbody>\n",
       "    <tr>\n",
       "      <th>0</th>\n",
       "      <td>201002</td>\n",
       "      <td>SOM</td>\n",
       "      <td>4156</td>\n",
       "    </tr>\n",
       "    <tr>\n",
       "      <th>1</th>\n",
       "      <td>201003</td>\n",
       "      <td>SOM</td>\n",
       "      <td>2339</td>\n",
       "    </tr>\n",
       "    <tr>\n",
       "      <th>2</th>\n",
       "      <td>201004</td>\n",
       "      <td>SOM</td>\n",
       "      <td>2959</td>\n",
       "    </tr>\n",
       "    <tr>\n",
       "      <th>3</th>\n",
       "      <td>201005</td>\n",
       "      <td>SOM</td>\n",
       "      <td>3066</td>\n",
       "    </tr>\n",
       "    <tr>\n",
       "      <th>4</th>\n",
       "      <td>201006</td>\n",
       "      <td>SOM</td>\n",
       "      <td>1755</td>\n",
       "    </tr>\n",
       "  </tbody>\n",
       "</table>\n",
       "</div>"
      ],
      "text/plain": [
       "   MonthYear Actor1CountryCode  Count\n",
       "0     201002               SOM   4156\n",
       "1     201003               SOM   2339\n",
       "2     201004               SOM   2959\n",
       "3     201005               SOM   3066\n",
       "4     201006               SOM   1755"
      ]
     },
     "execution_count": 10,
     "metadata": {},
     "output_type": "execute_result"
    }
   ],
   "source": [
    "SOM = pd.read_csv('results-20160321-160843.csv')\n",
    "SOM.head()"
   ]
  },
  {
   "cell_type": "code",
   "execution_count": 11,
   "metadata": {
    "collapsed": false
   },
   "outputs": [
    {
     "data": {
      "text/plain": [
       "<matplotlib.text.Text at 0x100429a90>"
      ]
     },
     "execution_count": 11,
     "metadata": {},
     "output_type": "execute_result"
    },
    {
     "data": {
      "image/png": "[encoded data removed]",
      "text/plain": [
       "<matplotlib.figure.Figure at 0x106ae3050>"
      ]
     },
     "metadata": {},
     "output_type": "display_data"
    }
   ],
   "source": [
    "SOM.index = pd.to_datetime(SOM.MonthYear, format='%Y%m')\n",
    "SOM.index = [float(str(i)[0:4])+float(str(i)[4:8])/12 for i in SOM.MonthYear] # just to make months\n",
    "SOM.Count.plot()\n",
    "locs,labels = plt.xticks()\n",
    "plt.xticks(locs, map(lambda x: \"%g\" % x, locs))\n",
    "plt.ylabel('# of events')\n",
    "plt.xlabel('Time')"
   ]
  },
  {
   "cell_type": "code",
   "execution_count": null,
   "metadata": {
    "collapsed": true
   },
   "outputs": [],
   "source": []
  }
 ],
 "metadata": {
  "kernelspec": {
   "display_name": "Python 2",
   "language": "python",
   "name": "python2"
  },
  "language_info": {
   "codemirror_mode": {
    "name": "ipython",
    "version": 2
   },
   "file_extension": ".py",
   "mimetype": "text/x-python",
   "name": "python",
   "nbconvert_exporter": "python",
   "pygments_lexer": "ipython2",
   "version": "2.7.10"
  }
 },
 "nbformat": 4,
 "nbformat_minor": 0
}
